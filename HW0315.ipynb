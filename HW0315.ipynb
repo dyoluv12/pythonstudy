{
  "nbformat": 4,
  "nbformat_minor": 0,
  "metadata": {
    "colab": {
      "provenance": [],
      "authorship_tag": "ABX9TyMNGxeQP3S68HJrcW6eSbsQ",
      "include_colab_link": true
    },
    "kernelspec": {
      "name": "python3",
      "display_name": "Python 3"
    },
    "language_info": {
      "name": "python"
    }
  },
  "cells": [
    {
      "cell_type": "markdown",
      "metadata": {
        "id": "view-in-github",
        "colab_type": "text"
      },
      "source": [
        "<a href=\"https://colab.research.google.com/github/dyoluv12/pythonstudy/blob/main/HW0315.ipynb\" target=\"_parent\"><img src=\"https://colab.research.google.com/assets/colab-badge.svg\" alt=\"Open In Colab\"/></a>"
      ]
    },
    {
      "cell_type": "markdown",
      "source": [
        "# **HW0315**\n",
        "\n",
        "아래와 같은 문자열이 있다고 하자."
      ],
      "metadata": {
        "id": "UAnwlL4gSZRo"
      }
    },
    {
      "cell_type": "code",
      "execution_count": 1,
      "metadata": {
        "id": "zK0oAXRsSMvq"
      },
      "outputs": [],
      "source": [
        "a='Jeonbuk National University'"
      ]
    },
    {
      "cell_type": "markdown",
      "source": [
        "1. 적당한 인덱싱을 통하여 출력결과가 아래와 같도록 하라.\n",
        "\n",
        "'University'"
      ],
      "metadata": {
        "id": "vQuzFAxFSWXu"
      }
    },
    {
      "cell_type": "code",
      "source": [
        "a[17:]"
      ],
      "metadata": {
        "colab": {
          "base_uri": "https://localhost:8080/",
          "height": 35
        },
        "id": "nio5e1rdSeAw",
        "outputId": "bb5f312b-1317-49be-f7b1-2dd7cd458d85"
      },
      "execution_count": 2,
      "outputs": [
        {
          "output_type": "execute_result",
          "data": {
            "text/plain": [
              "'University'"
            ],
            "application/vnd.google.colaboratory.intrinsic+json": {
              "type": "string"
            }
          },
          "metadata": {},
          "execution_count": 2
        }
      ]
    },
    {
      "cell_type": "markdown",
      "source": [
        "2. 출력결과가 아래와 같도록 하는 코드를 작성하라. (lower 함수를 이용할 것)\n",
        "\n",
        "'jeonbuk national university'"
      ],
      "metadata": {
        "id": "LUc_fabUSnXb"
      }
    },
    {
      "cell_type": "code",
      "source": [
        "a.lower()"
      ],
      "metadata": {
        "colab": {
          "base_uri": "https://localhost:8080/",
          "height": 35
        },
        "id": "d0Qv9gpnSn_j",
        "outputId": "9a3c2bd7-a7ac-4d3a-b1b1-44173522cf8b"
      },
      "execution_count": 3,
      "outputs": [
        {
          "output_type": "execute_result",
          "data": {
            "text/plain": [
              "'jeonbuk national university'"
            ],
            "application/vnd.google.colaboratory.intrinsic+json": {
              "type": "string"
            }
          },
          "metadata": {},
          "execution_count": 3
        }
      ]
    },
    {
      "cell_type": "markdown",
      "source": [
        "3. 아래의 코드를 관찰하고 isupper()의 기능이 무엇인지 스스로 정리해보라."
      ],
      "metadata": {
        "id": "GbIPjbeeSt5u"
      }
    },
    {
      "cell_type": "code",
      "source": [
        "'A'.isupper()"
      ],
      "metadata": {
        "colab": {
          "base_uri": "https://localhost:8080/"
        },
        "id": "xCV3mb3MSwgj",
        "outputId": "64f5806a-d44d-4b72-c76f-15e92986168f"
      },
      "execution_count": 10,
      "outputs": [
        {
          "output_type": "execute_result",
          "data": {
            "text/plain": [
              "True"
            ]
          },
          "metadata": {},
          "execution_count": 10
        }
      ]
    },
    {
      "cell_type": "code",
      "source": [
        "'AA'.isupper()"
      ],
      "metadata": {
        "colab": {
          "base_uri": "https://localhost:8080/"
        },
        "id": "L64-Ny2AS5M2",
        "outputId": "ab3a207c-8cde-4f70-dadd-d60d2797d6ab"
      },
      "execution_count": 9,
      "outputs": [
        {
          "output_type": "execute_result",
          "data": {
            "text/plain": [
              "True"
            ]
          },
          "metadata": {},
          "execution_count": 9
        }
      ]
    },
    {
      "cell_type": "code",
      "source": [
        "'Aa'.isupper()"
      ],
      "metadata": {
        "colab": {
          "base_uri": "https://localhost:8080/"
        },
        "id": "DmobGAkqS90o",
        "outputId": "36de7526-0991-45c9-e5cc-6c6fe4b10810"
      },
      "execution_count": 6,
      "outputs": [
        {
          "output_type": "execute_result",
          "data": {
            "text/plain": [
              "False"
            ]
          },
          "metadata": {},
          "execution_count": 6
        }
      ]
    },
    {
      "cell_type": "code",
      "source": [
        "'aa'.isupper()"
      ],
      "metadata": {
        "colab": {
          "base_uri": "https://localhost:8080/"
        },
        "id": "4CzWnsSGS_8m",
        "outputId": "a9d9954a-6c11-458e-88fb-458214379f48"
      },
      "execution_count": 7,
      "outputs": [
        {
          "output_type": "execute_result",
          "data": {
            "text/plain": [
              "False"
            ]
          },
          "metadata": {},
          "execution_count": 7
        }
      ]
    },
    {
      "cell_type": "code",
      "source": [
        "'aA'.isupper()"
      ],
      "metadata": {
        "colab": {
          "base_uri": "https://localhost:8080/"
        },
        "id": "UU37ZsZWTAvP",
        "outputId": "23860923-69c2-494e-8a68-c74377fe3c5a"
      },
      "execution_count": 8,
      "outputs": [
        {
          "output_type": "execute_result",
          "data": {
            "text/plain": [
              "False"
            ]
          },
          "metadata": {},
          "execution_count": 8
        }
      ]
    },
    {
      "cell_type": "markdown",
      "source": [
        "답 : 해당 문자가 대문자인지 판단해주는 기능이다. 대문자이면 True, 소문자이면 False를 출력한다."
      ],
      "metadata": {
        "id": "ItzwHDYFTEzb"
      }
    },
    {
      "cell_type": "markdown",
      "source": [
        "유추한 기능이 맞는지 ChatGPT를 통하여 확인하라."
      ],
      "metadata": {
        "id": "2Y9CDO1ITH5O"
      }
    },
    {
      "cell_type": "markdown",
      "source": [
        "![파이썬_0315과제.PNG](data:image/png;base64,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)"
      ],
      "metadata": {
        "id": "XJuiO7blU9Y0"
      }
    },
    {
      "cell_type": "markdown",
      "source": [
        "4. 다음중 실행 불가능한 코드를 모두 골라라."
      ],
      "metadata": {
        "id": "R-RuIxSdTNG2"
      }
    },
    {
      "cell_type": "markdown",
      "source": [
        "(a) 'a'*2 \n",
        "\n",
        "(b) 'a'*'2'\n",
        "\n",
        "(c) 'a'+2 \n",
        "\n",
        "(d) 'a'+'2'"
      ],
      "metadata": {
        "id": "gCyBo5vZTRW2"
      }
    },
    {
      "cell_type": "markdown",
      "source": [
        "b와 c 가 실행 불가능하다."
      ],
      "metadata": {
        "id": "CxQaA896VP4D"
      }
    }
  ]
}